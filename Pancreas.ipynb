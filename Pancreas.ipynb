{
  "nbformat": 4,
  "nbformat_minor": 0,
  "metadata": {
    "colab": {
      "provenance": [],
      "gpuType": "T4"
    },
    "kernelspec": {
      "name": "python3",
      "display_name": "Python 3"
    },
    "language_info": {
      "name": "python"
    },
    "accelerator": "GPU"
  },
  "cells": [
    {
      "cell_type": "code",
      "source": [
        "!pip install pydicom"
      ],
      "metadata": {
        "colab": {
          "base_uri": "https://localhost:8080/"
        },
        "id": "y0jE3EBF2bRz",
        "outputId": "309361c6-28fb-448b-ea3f-db94bd9fd0c9"
      },
      "execution_count": null,
      "outputs": [
        {
          "output_type": "stream",
          "name": "stdout",
          "text": [
            "Collecting pydicom\n",
            "  Downloading pydicom-2.4.3-py3-none-any.whl (1.8 MB)\n",
            "\u001b[2K     \u001b[90m━━━━━━━━━━━━━━━━━━━━━━━━━━━━━━━━━━━━━━━━\u001b[0m \u001b[32m1.8/1.8 MB\u001b[0m \u001b[31m8.0 MB/s\u001b[0m eta \u001b[36m0:00:00\u001b[0m\n",
            "\u001b[?25hInstalling collected packages: pydicom\n",
            "Successfully installed pydicom-2.4.3\n"
          ]
        }
      ]
    },
    {
      "cell_type": "code",
      "source": [
        "import pydicom\n",
        "import os\n",
        "import matplotlib.pyplot as plt\n",
        "import numpy as np\n",
        "import tensorflow as tf\n",
        "from tensorflow.keras import layers, models"
      ],
      "metadata": {
        "id": "KSBiq6or2KUM"
      },
      "execution_count": null,
      "outputs": []
    },
    {
      "cell_type": "code",
      "source": [
        "from pydrive.auth import GoogleAuth\n",
        "from pydrive.drive import GoogleDrive\n",
        "from google.colab import drive\n",
        "drive.mount('/content/drive/')"
      ],
      "metadata": {
        "colab": {
          "base_uri": "https://localhost:8080/"
        },
        "id": "OsTKfNsP2K6A",
        "outputId": "8200f919-6e6f-4f57-c6e5-45c466e28236"
      },
      "execution_count": null,
      "outputs": [
        {
          "output_type": "stream",
          "name": "stdout",
          "text": [
            "Mounted at /content/drive/\n"
          ]
        }
      ]
    },
    {
      "cell_type": "code",
      "source": [
        "dicom_file_path = '/content/drive/MyDrive/Pancreas-CT 20200910.tcia'\n",
        "dicom_data = pydicom.dcmread(dicom_file_path, force=True)"
      ],
      "metadata": {
        "id": "6QcGNZr42O-B"
      },
      "execution_count": null,
      "outputs": []
    },
    {
      "cell_type": "code",
      "execution_count": null,
      "metadata": {
        "colab": {
          "base_uri": "https://localhost:8080/"
        },
        "id": "LOQ3vLmM2EHG",
        "outputId": "734ed4bd-e182-4aff-bd1e-1f56ab83aad3"
      },
      "outputs": [
        {
          "output_type": "stream",
          "name": "stdout",
          "text": [
            "Resized and saved: /content/drive/MyDrive/TCIA_pancreas/Resized_Labels/label0021.nii.gz\n",
            "Resized and saved: /content/drive/MyDrive/TCIA_pancreas/Resized_Labels/label0005.nii.gz\n",
            "Resized and saved: /content/drive/MyDrive/TCIA_pancreas/Resized_Labels/label0008.nii.gz\n",
            "Resized and saved: /content/drive/MyDrive/TCIA_pancreas/Resized_Labels/label0012.nii.gz\n",
            "Resized and saved: /content/drive/MyDrive/TCIA_pancreas/Resized_Labels/label0016.nii.gz\n",
            "Resized and saved: /content/drive/MyDrive/TCIA_pancreas/Resized_Labels/label0032.nii.gz\n",
            "Resized and saved: /content/drive/MyDrive/TCIA_pancreas/Resized_Labels/label0015.nii.gz\n",
            "Resized and saved: /content/drive/MyDrive/TCIA_pancreas/Resized_Labels/label0019.nii.gz\n",
            "Resized and saved: /content/drive/MyDrive/TCIA_pancreas/Resized_Labels/label0038.nii.gz\n",
            "Resized and saved: /content/drive/MyDrive/TCIA_pancreas/Resized_Labels/label0023.nii.gz\n",
            "Resized and saved: /content/drive/MyDrive/TCIA_pancreas/Resized_Labels/label0009.nii.gz\n",
            "Resized and saved: /content/drive/MyDrive/TCIA_pancreas/Resized_Labels/label0006.nii.gz\n",
            "Resized and saved: /content/drive/MyDrive/TCIA_pancreas/Resized_Labels/label0004.nii.gz\n",
            "Resized and saved: /content/drive/MyDrive/TCIA_pancreas/Resized_Labels/label0020.nii.gz\n",
            "Resized and saved: /content/drive/MyDrive/TCIA_pancreas/Resized_Labels/label0029.nii.gz\n",
            "Resized and saved: /content/drive/MyDrive/TCIA_pancreas/Resized_Labels/label0014.nii.gz\n",
            "Resized and saved: /content/drive/MyDrive/TCIA_pancreas/Resized_Labels/label0024.nii.gz\n",
            "Resized and saved: /content/drive/MyDrive/TCIA_pancreas/Resized_Labels/label0035.nii.gz\n",
            "Resized and saved: /content/drive/MyDrive/TCIA_pancreas/Resized_Labels/label0033.nii.gz\n",
            "Resized and saved: /content/drive/MyDrive/TCIA_pancreas/Resized_Labels/label0017.nii.gz\n",
            "Resized and saved: /content/drive/MyDrive/TCIA_pancreas/Resized_Labels/label0001.nii.gz\n",
            "Resized and saved: /content/drive/MyDrive/TCIA_pancreas/Resized_Labels/label0013.nii.gz\n",
            "Resized and saved: /content/drive/MyDrive/TCIA_pancreas/Resized_Labels/label0028.nii.gz\n",
            "Resized and saved: /content/drive/MyDrive/TCIA_pancreas/Resized_Labels/label0018.nii.gz\n",
            "Resized and saved: /content/drive/MyDrive/TCIA_pancreas/Resized_Labels/label0037.nii.gz\n",
            "Resized and saved: /content/drive/MyDrive/TCIA_pancreas/Resized_Labels/label0022.nii.gz\n",
            "Resized and saved: /content/drive/MyDrive/TCIA_pancreas/Resized_Labels/label0007.nii.gz\n",
            "Resized and saved: /content/drive/MyDrive/TCIA_pancreas/Resized_Labels/label0010.nii.gz\n",
            "Resized and saved: /content/drive/MyDrive/TCIA_pancreas/Resized_Labels/label0030.nii.gz\n",
            "Resized and saved: /content/drive/MyDrive/TCIA_pancreas/Resized_Labels/label0025.nii.gz\n",
            "Resized and saved: /content/drive/MyDrive/TCIA_pancreas/Resized_Labels/label0034.nii.gz\n",
            "Resized and saved: /content/drive/MyDrive/TCIA_pancreas/Resized_Labels/label0003.nii.gz\n",
            "Resized and saved: /content/drive/MyDrive/TCIA_pancreas/Resized_Labels/label0031.nii.gz\n",
            "Resized and saved: /content/drive/MyDrive/TCIA_pancreas/Resized_Labels/label0011.nii.gz\n",
            "Resized and saved: /content/drive/MyDrive/TCIA_pancreas/Resized_Labels/label0036.nii.gz\n",
            "Resized and saved: /content/drive/MyDrive/TCIA_pancreas/Resized_Labels/label0026.nii.gz\n",
            "Resized and saved: /content/drive/MyDrive/TCIA_pancreas/Resized_Labels/label0027.nii.gz\n",
            "Resized and saved: /content/drive/MyDrive/TCIA_pancreas/Resized_Labels/label0002.nii.gz\n",
            "Resized and saved: /content/drive/MyDrive/TCIA_pancreas/Resized_Labels/label0064.nii.gz\n",
            "Resized and saved: /content/drive/MyDrive/TCIA_pancreas/Resized_Labels/label0060.nii.gz\n",
            "Resized and saved: /content/drive/MyDrive/TCIA_pancreas/Resized_Labels/label0053.nii.gz\n",
            "Resized and saved: /content/drive/MyDrive/TCIA_pancreas/Resized_Labels/label0068.nii.gz\n",
            "Resized and saved: /content/drive/MyDrive/TCIA_pancreas/Resized_Labels/label0079.nii.gz\n",
            "Resized and saved: /content/drive/MyDrive/TCIA_pancreas/Resized_Labels/label0043.nii.gz\n",
            "Resized and saved: /content/drive/MyDrive/TCIA_pancreas/Resized_Labels/label0081.nii.gz\n",
            "Resized and saved: /content/drive/MyDrive/TCIA_pancreas/Resized_Labels/label0076.nii.gz\n",
            "Resized and saved: /content/drive/MyDrive/TCIA_pancreas/Resized_Labels/label0061.nii.gz\n",
            "Resized and saved: /content/drive/MyDrive/TCIA_pancreas/Resized_Labels/label0063.nii.gz\n",
            "Resized and saved: /content/drive/MyDrive/TCIA_pancreas/Resized_Labels/label0052.nii.gz\n",
            "Resized and saved: /content/drive/MyDrive/TCIA_pancreas/Resized_Labels/label0074.nii.gz\n",
            "Resized and saved: /content/drive/MyDrive/TCIA_pancreas/Resized_Labels/label0039.nii.gz\n",
            "Resized and saved: /content/drive/MyDrive/TCIA_pancreas/Resized_Labels/label0073.nii.gz\n",
            "Resized and saved: /content/drive/MyDrive/TCIA_pancreas/Resized_Labels/label0075.nii.gz\n",
            "Resized and saved: /content/drive/MyDrive/TCIA_pancreas/Resized_Labels/label0044.nii.gz\n",
            "Resized and saved: /content/drive/MyDrive/TCIA_pancreas/Resized_Labels/label0080.nii.gz\n",
            "Resized and saved: /content/drive/MyDrive/TCIA_pancreas/Resized_Labels/label0054.nii.gz\n",
            "Resized and saved: /content/drive/MyDrive/TCIA_pancreas/Resized_Labels/label0065.nii.gz\n",
            "Resized and saved: /content/drive/MyDrive/TCIA_pancreas/Resized_Labels/label0069.nii.gz\n",
            "Resized and saved: /content/drive/MyDrive/TCIA_pancreas/Resized_Labels/label0067.nii.gz\n",
            "Resized and saved: /content/drive/MyDrive/TCIA_pancreas/Resized_Labels/label0049.nii.gz\n",
            "Resized and saved: /content/drive/MyDrive/TCIA_pancreas/Resized_Labels/label0058.nii.gz\n",
            "Resized and saved: /content/drive/MyDrive/TCIA_pancreas/Resized_Labels/label0062.nii.gz\n",
            "Resized and saved: /content/drive/MyDrive/TCIA_pancreas/Resized_Labels/label0042.nii.gz\n",
            "Resized and saved: /content/drive/MyDrive/TCIA_pancreas/Resized_Labels/label0045.nii.gz\n",
            "Resized and saved: /content/drive/MyDrive/TCIA_pancreas/Resized_Labels/label0057.nii.gz\n",
            "Resized and saved: /content/drive/MyDrive/TCIA_pancreas/Resized_Labels/label0072.nii.gz\n",
            "Resized and saved: /content/drive/MyDrive/TCIA_pancreas/Resized_Labels/label0041.nii.gz\n",
            "Resized and saved: /content/drive/MyDrive/TCIA_pancreas/Resized_Labels/label0055.nii.gz\n",
            "Resized and saved: /content/drive/MyDrive/TCIA_pancreas/Resized_Labels/label0050.nii.gz\n",
            "Resized and saved: /content/drive/MyDrive/TCIA_pancreas/Resized_Labels/label0056.nii.gz\n",
            "Resized and saved: /content/drive/MyDrive/TCIA_pancreas/Resized_Labels/label0040.nii.gz\n",
            "Resized and saved: /content/drive/MyDrive/TCIA_pancreas/Resized_Labels/label0078.nii.gz\n",
            "Resized and saved: /content/drive/MyDrive/TCIA_pancreas/Resized_Labels/label0051.nii.gz\n",
            "Resized and saved: /content/drive/MyDrive/TCIA_pancreas/Resized_Labels/label0077.nii.gz\n",
            "Resized and saved: /content/drive/MyDrive/TCIA_pancreas/Resized_Labels/label0071.nii.gz\n",
            "Resized and saved: /content/drive/MyDrive/TCIA_pancreas/Resized_Labels/label0047.nii.gz\n",
            "Resized and saved: /content/drive/MyDrive/TCIA_pancreas/Resized_Labels/label0082.nii.gz\n",
            "Resized and saved: /content/drive/MyDrive/TCIA_pancreas/Resized_Labels/label0070.nii.gz\n",
            "Resized and saved: /content/drive/MyDrive/TCIA_pancreas/Resized_Labels/label0066.nii.gz\n",
            "Resized and saved: /content/drive/MyDrive/TCIA_pancreas/Resized_Labels/label0046.nii.gz\n",
            "Resized and saved: /content/drive/MyDrive/TCIA_pancreas/Resized_Labels/label0059.nii.gz\n",
            "Resized and saved: /content/drive/MyDrive/TCIA_pancreas/Resized_Labels/label0048.nii.gz\n"
          ]
        }
      ],
      "source": [
        "import nibabel as nib\n",
        "import numpy as np\n",
        "import scipy.ndimage\n",
        "\n",
        "# Function to load and resize NIfTI data using resampling\n",
        "def load_and_resize_nii(file_path, target_shape):\n",
        "    # Load the NIfTI file\n",
        "    label_data = nib.load(file_path)\n",
        "\n",
        "    # Get the label data as a NumPy array\n",
        "    label_array = label_data.get_fdata()\n",
        "\n",
        "    # Calculate scaling factors for resizing\n",
        "    scaling_factors = [\n",
        "        target_shape[0] / label_array.shape[0],\n",
        "        target_shape[1] / label_array.shape[1],\n",
        "        target_shape[2] / label_array.shape[2]\n",
        "    ]\n",
        "\n",
        "    # Resize the data using resampling\n",
        "    resized_label_array = scipy.ndimage.zoom(label_array, scaling_factors, order=1)\n",
        "\n",
        "    return resized_label_array\n",
        "\n",
        "# Directory containing your NIfTI label files\n",
        "label_dir_path = \"/content/drive/MyDrive/TCIA_pancreas/TCIA_labels\"\n",
        "\n",
        "# Directory where you want to save the resized NIfTI data\n",
        "output_dir = \"/content/drive/MyDrive/TCIA_pancreas/Resized_Labels\"\n",
        "\n",
        "# Create the output directory if it doesn't exist\n",
        "os.makedirs(output_dir, exist_ok=True)\n",
        "\n",
        "# Target shape for resizing (adjust to your desired shape)\n",
        "target_shape = (64, 64, 64)  # Adjust as needed\n",
        "\n",
        "# List all NIfTI label files in the directory\n",
        "label_files = [os.path.join(label_dir_path, file) for file in os.listdir(label_dir_path) if file.endswith(\".nii.gz\")]\n",
        "\n",
        "# Process and resize each NIfTI label file\n",
        "for label_file_path in label_files:\n",
        "    # Load and resize the NIfTI label data\n",
        "    resized_label_array = load_and_resize_nii(label_file_path, target_shape)\n",
        "\n",
        "    # Define the affine matrix for the new image\n",
        "    # You can use the affine from the original label_data or create a new one as needed\n",
        "    new_affine = np.eye(4)  # Replace with the appropriate affine transformation if needed\n",
        "\n",
        "    # Create a new NIfTI file with the resized data and the defined affine matrix\n",
        "    output_file_path = os.path.join(output_dir, os.path.basename(label_file_path))\n",
        "    resized_label_img = nib.Nifti1Image(resized_label_array, affine=new_affine)\n",
        "\n",
        "    # Save the resized NIfTI file\n",
        "    nib.save(resized_label_img, output_file_path)\n",
        "\n",
        "    # Print information about the resizing\n",
        "    print(f\"Resized and saved: {output_file_path}\")\n"
      ]
    },
    {
      "cell_type": "code",
      "source": [
        "import nibabel as nib\n",
        "import os\n",
        "import numpy as np\n",
        "from sklearn.decomposition import PCA\n",
        "from sklearn.cluster import KMeans\n",
        "\n",
        "# Directory containing your NIfTI files\n",
        "data_dir = \"/content/drive/MyDrive/TCIA_pancreas/Resized_Labels\"\n",
        "\n",
        "# List all NIfTI files in the directory\n",
        "nii_files = [os.path.join(data_dir, file) for file in os.listdir(data_dir) if file.endswith(\".nii.gz\")]\n",
        "\n",
        "# Load and preprocess NIfTI data\n",
        "data_list = []\n",
        "for nii_file in nii_files:\n",
        "    # Load the NIfTI file\n",
        "    nii_data = nib.load(nii_file)\n",
        "\n",
        "    # Get the NIfTI data as a NumPy array\n",
        "    nii_array = nii_data.get_fdata()\n",
        "\n",
        "    # Flatten the 3D data into a 1D vector\n",
        "    flattened_data = nii_array.flatten()\n",
        "\n",
        "    # Append the flattened data to the list\n",
        "    data_list.append(flattened_data)\n",
        "\n",
        "# Convert the list of flattened data to a NumPy array\n",
        "data_matrix = np.array(data_list)\n",
        "\n",
        "# Perform dimensionality reduction using PCA\n",
        "num_components = 50  # Adjust the number of components as needed\n",
        "pca = PCA(n_components=num_components)\n",
        "reduced_data = pca.fit_transform(data_matrix)\n",
        "\n",
        "# Perform clustering using K-Means\n",
        "num_clusters = 3  # Adjust the number of clusters as needed\n",
        "kmeans = KMeans(n_clusters=num_clusters, n_init=10, random_state=0)\n",
        "cluster_labels = kmeans.fit_predict(reduced_data)\n",
        "\n",
        "# Now, 'cluster_labels' contains the cluster assignments for each NIfTI file\n",
        "# You can further analyze or visualize the clusters as needed.\n"
      ],
      "metadata": {
        "id": "QWm79ahW7wbs"
      },
      "execution_count": null,
      "outputs": []
    },
    {
      "cell_type": "code",
      "source": [
        "import matplotlib.pyplot as plt\n",
        "import seaborn as sns\n",
        "\n",
        "# Assuming reduced_data contains the reduced data after PCA\n",
        "# cluster_labels contains cluster assignments\n",
        "plt.scatter(reduced_data[:, 0], reduced_data[:, 1], c=cluster_labels, cmap='viridis')\n",
        "plt.title('Cluster Assignments')\n",
        "plt.xlabel('PCA Component 1')\n",
        "plt.ylabel('PCA Component 2')\n",
        "plt.colorbar()\n",
        "plt.show()\n"
      ],
      "metadata": {
        "colab": {
          "base_uri": "https://localhost:8080/",
          "height": 472
        },
        "id": "yTvd33tvYayA",
        "outputId": "ec442979-8c95-4e75-9f5c-30dfce38e53b"
      },
      "execution_count": null,
      "outputs": [
        {
          "output_type": "display_data",
          "data": {
            "text/plain": [
              "<Figure size 640x480 with 2 Axes>"
            ],
            "image/png": "[encoded data removed]"
          },
          "metadata": {}
        }
      ]
    },
    {
      "cell_type": "code",
      "source": [
        "cluster_statistics = []\n",
        "for cluster_id in range(num_clusters):\n",
        "    cluster_data = reduced_data[cluster_labels == cluster_id]\n",
        "    cluster_mean = np.mean(cluster_data, axis=0)\n",
        "    cluster_median = np.median(cluster_data, axis=0)\n",
        "    cluster_std = np.std(cluster_data, axis=0)\n",
        "    cluster_statistics.append({\n",
        "        'Cluster': cluster_id,\n",
        "        'Mean': cluster_mean,\n",
        "        'Median': cluster_median,\n",
        "        'Standard Deviation': cluster_std\n",
        "    })\n",
        "print(cluster_statistics)"
      ],
      "metadata": {
        "colab": {
          "base_uri": "https://localhost:8080/"
        },
        "id": "EkQfwuw_Ydls",
        "outputId": "1b420d1c-64ef-4616-f3c7-8828b4a56860"
      },
      "execution_count": null,
      "outputs": [
        {
          "output_type": "stream",
          "name": "stdout",
          "text": [
            "[{'Cluster': 0, 'Mean': array([ 7.97699977e+00, -2.90365008e+00, -3.63971200e-01,  1.65057066e+00,\n",
            "        9.19261740e-01, -8.70084740e-01,  3.40016099e-01,  7.90864907e-01,\n",
            "        3.15777328e-01,  7.32616610e-01,  2.63714500e-01, -2.90415702e-02,\n",
            "        6.68951125e-01,  1.16629783e-01, -9.38186178e-02, -2.11050539e-01,\n",
            "        1.09257541e-01, -2.46853365e-01,  4.16340839e-01, -2.01921901e-01,\n",
            "        7.20849502e-03, -1.98088343e-01, -8.82555247e-02, -2.49186934e-01,\n",
            "        3.85552679e-02,  1.51875253e-01, -3.26677477e-01, -3.54046310e-01,\n",
            "        5.93760809e-02,  3.31175908e-01,  8.05326859e-02, -1.02553862e-01,\n",
            "       -2.33838114e-01, -1.64867139e-02, -2.82891321e-01, -7.78158433e-02,\n",
            "        3.92930054e-02,  1.38047244e-01,  4.12452866e-02, -1.33848006e-03,\n",
            "        1.19079572e-01, -1.19975230e-01, -8.91603178e-02, -1.17569591e-01,\n",
            "        1.03771794e-01, -6.69981963e-02, -2.99257009e-02,  1.70436940e-01,\n",
            "       -7.19237884e-02, -2.89224720e-02]), 'Median': array([ 8.69988418e+00, -2.92583000e+00, -1.52308408e+00,  7.66470141e-01,\n",
            "        5.65865025e-01, -6.04208816e-01,  7.50307396e-01,  1.90811384e-01,\n",
            "       -4.05830914e-01,  3.70862477e-01,  4.10482471e-01, -3.91295006e-01,\n",
            "        6.39387963e-01,  1.14744310e-01, -1.38352543e-01, -9.46513685e-02,\n",
            "       -6.13562361e-01,  6.49196346e-02,  1.86206553e-01, -7.36378229e-01,\n",
            "       -3.40334430e-01, -7.29410944e-01,  7.52845326e-02, -4.24296646e-01,\n",
            "        3.24916576e-01,  4.35347040e-01, -7.72759932e-01, -8.26811415e-01,\n",
            "        2.81112014e-01,  4.21578094e-01,  2.10152656e-01, -6.98997269e-02,\n",
            "       -2.95414009e-01,  3.71686126e-02, -2.87345424e-01, -1.15880116e-01,\n",
            "        1.39696368e-01,  4.06616107e-01,  3.50334281e-02,  2.89643891e-01,\n",
            "        2.64596006e-01,  1.26256949e-01,  1.48024000e-01, -3.78519077e-01,\n",
            "        3.26217302e-03, -8.44220190e-02, -1.15520947e-02, -2.27064192e-01,\n",
            "       -5.05471067e-01,  2.43578283e-03]), 'Standard Deviation': array([3.59644467, 1.76913212, 3.57574601, 4.63542758, 4.7071764 ,\n",
            "       3.57778541, 2.53265304, 3.44750733, 3.06465575, 3.38978356,\n",
            "       1.64374425, 2.07269588, 3.68921019, 3.80450681, 2.46546882,\n",
            "       3.33934343, 3.79453322, 1.58650635, 2.16414907, 3.16581124,\n",
            "       2.61745956, 2.78331541, 2.23500771, 1.53996192, 1.47049089,\n",
            "       1.86528034, 1.61071224, 1.9759741 , 1.51227882, 1.49886941,\n",
            "       1.59271497, 2.0446662 , 1.88743206, 1.32152642, 1.57897091,\n",
            "       1.09493016, 1.28012877, 2.07157123, 1.38910854, 2.00053894,\n",
            "       2.64952191, 1.22066017, 1.24072153, 1.74381771, 1.02573638,\n",
            "       1.14029189, 1.41836453, 1.54156037, 1.74145867, 1.35981655])}, {'Cluster': 1, 'Mean': array([-0.02083569,  5.15184457, -0.95263437, -0.6317911 , -0.92735148,\n",
            "        0.1315644 , -0.24643679, -0.22103894, -0.05167044,  0.07524676,\n",
            "       -0.10619163, -0.33754891, -0.10406659, -0.25155468,  0.22018956,\n",
            "        0.14871304, -0.13347442, -0.08799068, -0.11798099,  0.15848623,\n",
            "        0.09990543, -0.04067474,  0.19240673,  0.13335536,  0.13356786,\n",
            "       -0.14759239, -0.09170837, -0.05861564,  0.14206206, -0.08621399,\n",
            "        0.01711917, -0.03132788, -0.00574536,  0.04023882,  0.06095497,\n",
            "        0.04295108, -0.19093544,  0.07986121,  0.06069661, -0.04745641,\n",
            "       -0.03371957,  0.07413818,  0.22900564, -0.01644127, -0.09306074,\n",
            "        0.01993759, -0.01660296, -0.03188969,  0.13019614,  0.03050957]), 'Median': array([-0.97065033,  4.79111416, -1.23093453, -0.39932463, -1.73155878,\n",
            "        0.14915698, -0.91092967, -0.22387172, -0.02589202,  0.62445505,\n",
            "        0.15194491,  0.03829602, -0.07918648, -0.56819995,  0.47806198,\n",
            "        0.20656427, -0.1630202 ,  0.12172835,  0.36295481, -0.15421847,\n",
            "        0.23838947,  0.16435575, -0.27048382,  0.11308115, -0.08281357,\n",
            "       -0.43211776, -0.17439067,  0.11988421,  0.03958426, -0.116986  ,\n",
            "       -0.1902104 , -0.43419242,  0.00881616,  0.06339773,  0.26763811,\n",
            "       -0.20636861, -0.21520317,  0.26114015,  0.03816094, -0.05827734,\n",
            "        0.28029846,  0.27940565,  0.23145139, -0.12490153,  0.11411087,\n",
            "        0.08582795, -0.19656977,  0.03085358, -0.01005058,  0.14003104]), 'Standard Deviation': array([4.2833238 , 2.96911094, 3.55019939, 3.63981675, 2.52470878,\n",
            "       2.29407891, 3.2599137 , 3.25819466, 2.94515893, 2.55208772,\n",
            "       2.57581731, 2.00408544, 2.27484632, 1.86269374, 1.66798812,\n",
            "       2.01378573, 1.61234929, 2.38897647, 2.16997224, 2.18158784,\n",
            "       1.33032411, 2.0305998 , 2.13194473, 2.03622625, 2.09241135,\n",
            "       1.98260585, 1.83696722, 1.35862295, 1.56395533, 1.87888801,\n",
            "       1.51769627, 1.78367768, 1.68932257, 1.7639694 , 1.92638467,\n",
            "       1.82595726, 1.58314997, 1.12756355, 1.23582283, 1.76336096,\n",
            "       1.16391595, 1.76995719, 1.3592991 , 1.28477118, 1.69894409,\n",
            "       1.73528887, 1.49350683, 1.36245768, 1.36590142, 1.59163302])}, {'Cluster': 2, 'Mean': array([-5.12561577e+00, -3.27852193e+00,  1.18745450e+00, -4.33093200e-01,\n",
            "        3.34279385e-01,  4.29780595e-01,  2.70715618e-02, -2.89196479e-01,\n",
            "       -1.52056873e-01, -5.47902642e-01, -6.39467545e-02,  3.56285406e-01,\n",
            "       -3.27514780e-01,  1.76309662e-01, -1.59661415e-01, -1.25513978e-02,\n",
            "        6.29856807e-02,  2.47250914e-01, -1.50626004e-01, -2.82140352e-02,\n",
            "       -1.04556076e-01,  1.68473670e-01, -1.35467678e-01,  2.74104075e-02,\n",
            "       -1.58442224e-01,  4.96083520e-02,  3.02468029e-01,  2.87032610e-01,\n",
            "       -1.80369206e-01, -1.27447888e-01, -6.90757440e-02,  9.74916654e-02,\n",
            "        1.56608656e-01, -2.96022315e-02,  1.21555557e-01,  7.25269190e-03,\n",
            "        1.65585116e-01, -1.68923952e-01, -8.73064684e-02,  4.83199421e-02,\n",
            "       -4.31059621e-02,  3.26519740e-03, -1.71482858e-01,  9.22926233e-02,\n",
            "        2.61111934e-02,  2.32870538e-02,  3.59098651e-02, -7.80696249e-02,\n",
            "       -8.37936938e-02, -1.18499144e-02]), 'Median': array([-5.07580700e+00, -3.71300557e+00,  4.73497142e-03, -9.14215060e-01,\n",
            "        5.03841957e-01, -1.10391825e-02, -2.26136756e-01,  1.11709679e-01,\n",
            "       -8.07525253e-02, -9.38276176e-02, -6.60770586e-01, -5.71074793e-02,\n",
            "       -1.53324211e-01,  2.99723855e-01, -2.06126475e-01, -2.00002427e-01,\n",
            "       -1.44058213e-01,  1.21121975e-01, -2.84976844e-01, -1.56984933e-01,\n",
            "       -3.91847116e-01,  2.33556335e-01,  8.81078238e-02, -2.40019883e-01,\n",
            "        2.43765639e-02,  5.36711744e-01, -9.12801194e-02,  3.41150803e-01,\n",
            "        8.01414604e-02, -1.65697750e-01, -6.93919856e-01,  2.82014262e-01,\n",
            "        6.50345365e-02, -2.38073734e-01,  1.42905295e-01, -2.56771311e-01,\n",
            "       -2.85546083e-02,  1.02334709e-01, -1.15105208e-01, -1.55610773e-01,\n",
            "       -9.43739388e-02,  2.58574858e-01, -8.14562510e-01, -4.07561094e-01,\n",
            "       -5.79905125e-02,  1.80864266e-01, -1.34751362e-01, -1.04095616e-01,\n",
            "       -3.10511526e-02,  5.30497394e-02]), 'Standard Deviation': array([2.62662798, 2.76503241, 4.41644415, 2.52666257, 2.95825466,\n",
            "       3.91851863, 3.44963812, 2.29489809, 2.62793984, 2.43546199,\n",
            "       3.17120022, 3.26570009, 1.63572528, 1.91619965, 3.05085489,\n",
            "       2.0145056 , 1.68815672, 2.63375064, 2.43841289, 1.49924403,\n",
            "       2.49824698, 1.66452384, 1.95520315, 2.36646254, 2.31381079,\n",
            "       2.21555792, 2.30683177, 2.38474354, 2.43646188, 2.0673872 ,\n",
            "       2.26495775, 1.7706931 , 1.91021326, 2.1000318 , 1.77539532,\n",
            "       2.03817866, 2.13321808, 2.00010719, 2.24085885, 1.38856909,\n",
            "       1.22415115, 1.72934428, 1.99163417, 1.73474381, 1.72355827,\n",
            "       1.60651734, 1.65825552, 1.65838241, 1.49139602, 1.46615635])}]\n"
          ]
        }
      ]
    },
    {
      "cell_type": "code",
      "source": [
        "import nibabel as nib\n",
        "import numpy as np\n",
        "from scipy.ndimage import zoom\n",
        "\n",
        "def preprocess_nii_data(nii_data, target_shape):\n",
        "    # Get the NIfTI data as a NumPy array\n",
        "    nii_array = nii_data.get_fdata()\n",
        "\n",
        "    # Compute scaling factors for resizing\n",
        "    scaling_factors = (\n",
        "        target_shape[0] / nii_array.shape[0],\n",
        "        target_shape[1] / nii_array.shape[1],\n",
        "        target_shape[2] / nii_array.shape[2]\n",
        "    )\n",
        "\n",
        "    # Resize the NIfTI data to the target shape using zoom\n",
        "    preprocessed_data = zoom(nii_array, scaling_factors, order=3)  # Using cubic interpolation (order=3)\n",
        "\n",
        "    # Normalize the data to the range [0, 1]\n",
        "    preprocessed_data = preprocessed_data / np.max(preprocessed_data)\n",
        "\n",
        "    return preprocessed_data\n"
      ],
      "metadata": {
        "id": "n0TEoVlSh9Nc"
      },
      "execution_count": null,
      "outputs": []
    },
    {
      "cell_type": "code",
      "source": [
        "def extract_label(file_path):\n",
        "    # Extract the label from the file name (modify this based on your file naming convention)\n",
        "    file_name = os.path.basename(file_path)\n",
        "    label = file_name.split('.')[0].replace('label', '')  # Extract XYZ from labelXYZ\n",
        "    return int(label)"
      ],
      "metadata": {
        "id": "kEu46QLpzbxL"
      },
      "execution_count": null,
      "outputs": []
    },
    {
      "cell_type": "code",
      "source": [
        "import nibabel as nib\n",
        "import numpy as np\n",
        "from sklearn.model_selection import train_test_split\n",
        "\n",
        "\n",
        "# List all NIfTI files in the directory\n",
        "nii_files = [os.path.join(data_dir, file) for file in os.listdir(data_dir) if file.endswith(\".nii.gz\")]\n",
        "\n",
        "# Load and preprocess NIfTI data, and create labels or cluster assignments\n",
        "data_list = []\n",
        "labels = []  # Create a list to store labels or cluster assignments\n",
        "\n",
        "for nii_file in nii_files:\n",
        "    # Load and preprocess the NIfTI file (replace with your preprocessing logic)\n",
        "    nii_data = nib.load(nii_file)\n",
        "    target_shape = (64, 64, 64)  # Specify the desired target shape\n",
        "    preprocessed_data = preprocess_nii_data(nii_data, target_shape)\n",
        "    # Extract label or cluster assignment based on your problem\n",
        "    label = extract_label(nii_file)  # Replace with your label extraction logic\n",
        "\n",
        "    data_list.append(preprocessed_data)\n",
        "    labels.append(label)\n",
        "\n",
        "# Convert the list of preprocessed data and labels to NumPy arrays\n",
        "X = np.array(data_list)\n",
        "y = np.array(labels)\n",
        "\n",
        "# Perform the train-test split\n",
        "X_train, X_test, y_train, y_test = train_test_split(X, y, test_size=0.2, random_state=42)\n"
      ],
      "metadata": {
        "id": "4lOUAwcRYjEI"
      },
      "execution_count": null,
      "outputs": []
    },
    {
      "cell_type": "code",
      "source": [
        "!pip install git+https://github.com/zhixuhao/unet.git\n"
      ],
      "metadata": {
        "colab": {
          "base_uri": "https://localhost:8080/"
        },
        "id": "1TkcrbQoGXQ8",
        "outputId": "0d3bec74-7a55-4cd2-8af5-748986c95904"
      },
      "execution_count": null,
      "outputs": [
        {
          "output_type": "stream",
          "name": "stdout",
          "text": [
            "Collecting git+https://github.com/zhixuhao/unet.git\n",
            "  Cloning https://github.com/zhixuhao/unet.git to /tmp/pip-req-build-g7xfnenj\n",
            "  Running command git clone --filter=blob:none --quiet https://github.com/zhixuhao/unet.git /tmp/pip-req-build-g7xfnenj\n",
            "  Resolved https://github.com/zhixuhao/unet.git to commit b45af4d458437d8281cc218a07fd4380818ece4a\n",
            "\u001b[31mERROR: git+https://github.com/zhixuhao/unet.git does not appear to be a Python project: neither 'setup.py' nor 'pyproject.toml' found.\u001b[0m\u001b[31m\n",
            "\u001b[0m"
          ]
        }
      ]
    },
    {
      "cell_type": "code",
      "source": [
        "import tensorflow as tf\n",
        "from tensorflow import keras\n",
        "from tensorflow.keras import layers\n",
        "\n",
        "# Define the U-Net model\n",
        "def unet_model(input_shape=(256, 256, 3), num_classes=1):\n",
        "    inputs = keras.Input(shape=input_shape)\n",
        "\n",
        "    # Encoder\n",
        "    conv1 = layers.Conv2D(64, 3, activation='relu', padding='same')(inputs)\n",
        "    conv1 = layers.Conv2D(64, 3, activation='relu', padding='same')(conv1)\n",
        "    pool1 = layers.MaxPooling2D(pool_size=(2, 2))(conv1)\n",
        "\n",
        "    conv2 = layers.Conv2D(128, 3, activation='relu', padding='same')(pool1)\n",
        "    conv2 = layers.Conv2D(128, 3, activation='relu', padding='same')(conv2)\n",
        "    pool2 = layers.MaxPooling2D(pool_size=(2, 2))(conv2)\n",
        "\n",
        "    # Bottom\n",
        "    conv3 = layers.Conv2D(256, 3, activation='relu', padding='same')(pool2)\n",
        "    conv3 = layers.Conv2D(256, 3, activation='relu', padding='same')(conv3)\n",
        "\n",
        "    # Decoder\n",
        "    up4 = layers.UpSampling2D(size=(2, 2))(conv3)\n",
        "    up4 = layers.Conv2D(128, 2, activation='relu', padding='same')(up4)\n",
        "    merge4 = layers.concatenate([conv2, up4], axis=3)\n",
        "    conv4 = layers.Conv2D(128, 3, activation='relu', padding='same')(merge4)\n",
        "    conv4 = layers.Conv2D(128, 3, activation='relu', padding='same')(conv4)\n",
        "\n",
        "    up5 = layers.UpSampling2D(size=(2, 2))(conv4)\n",
        "    up5 = layers.Conv2D(64, 2, activation='relu', padding='same')(up5)\n",
        "    merge5 = layers.concatenate([conv1, up5], axis=3)\n",
        "    conv5 = layers.Conv2D(64, 3, activation='relu', padding='same')(merge5)\n",
        "    conv5 = layers.Conv2D(64, 3, activation='relu', padding='same')(conv5)\n",
        "\n",
        "    # Output\n",
        "    outputs = layers.Conv2D(num_classes, 1, activation='sigmoid')(conv5)\n",
        "\n",
        "    model = keras.Model(inputs, outputs)\n",
        "    return model\n",
        "\n",
        "# Create the U-Net model\n",
        "model = unet_model()\n",
        "\n",
        "# Compile the model (you may need to adjust the loss and metrics depending on your task)\n",
        "model.compile(optimizer='adam', loss='binary_crossentropy', metrics=['accuracy'])\n",
        "\n",
        "# Print the model summary\n",
        "model.summary()\n"
      ],
      "metadata": {
        "colab": {
          "base_uri": "https://localhost:8080/"
        },
        "id": "M-9-bI1FGrzY",
        "outputId": "7650d49d-b769-4a30-ac6f-503b162d4dcc"
      },
      "execution_count": null,
      "outputs": [
        {
          "output_type": "stream",
          "name": "stdout",
          "text": [
            "Model: \"model\"\n",
            "__________________________________________________________________________________________________\n",
            " Layer (type)                Output Shape                 Param #   Connected to                  \n",
            "==================================================================================================\n",
            " input_1 (InputLayer)        [(None, 256, 256, 3)]        0         []                            \n",
            "                                                                                                  \n",
            " conv2d (Conv2D)             (None, 256, 256, 64)         1792      ['input_1[0][0]']             \n",
            "                                                                                                  \n",
            " conv2d_1 (Conv2D)           (None, 256, 256, 64)         36928     ['conv2d[0][0]']              \n",
            "                                                                                                  \n",
            " max_pooling2d (MaxPooling2  (None, 128, 128, 64)         0         ['conv2d_1[0][0]']            \n",
            " D)                                                                                               \n",
            "                                                                                                  \n",
            " conv2d_2 (Conv2D)           (None, 128, 128, 128)        73856     ['max_pooling2d[0][0]']       \n",
            "                                                                                                  \n",
            " conv2d_3 (Conv2D)           (None, 128, 128, 128)        147584    ['conv2d_2[0][0]']            \n",
            "                                                                                                  \n",
            " max_pooling2d_1 (MaxPoolin  (None, 64, 64, 128)          0         ['conv2d_3[0][0]']            \n",
            " g2D)                                                                                             \n",
            "                                                                                                  \n",
            " conv2d_4 (Conv2D)           (None, 64, 64, 256)          295168    ['max_pooling2d_1[0][0]']     \n",
            "                                                                                                  \n",
            " conv2d_5 (Conv2D)           (None, 64, 64, 256)          590080    ['conv2d_4[0][0]']            \n",
            "                                                                                                  \n",
            " up_sampling2d (UpSampling2  (None, 128, 128, 256)        0         ['conv2d_5[0][0]']            \n",
            " D)                                                                                               \n",
            "                                                                                                  \n",
            " conv2d_6 (Conv2D)           (None, 128, 128, 128)        131200    ['up_sampling2d[0][0]']       \n",
            "                                                                                                  \n",
            " concatenate (Concatenate)   (None, 128, 128, 256)        0         ['conv2d_3[0][0]',            \n",
            "                                                                     'conv2d_6[0][0]']            \n",
            "                                                                                                  \n",
            " conv2d_7 (Conv2D)           (None, 128, 128, 128)        295040    ['concatenate[0][0]']         \n",
            "                                                                                                  \n",
            " conv2d_8 (Conv2D)           (None, 128, 128, 128)        147584    ['conv2d_7[0][0]']            \n",
            "                                                                                                  \n",
            " up_sampling2d_1 (UpSamplin  (None, 256, 256, 128)        0         ['conv2d_8[0][0]']            \n",
            " g2D)                                                                                             \n",
            "                                                                                                  \n",
            " conv2d_9 (Conv2D)           (None, 256, 256, 64)         32832     ['up_sampling2d_1[0][0]']     \n",
            "                                                                                                  \n",
            " concatenate_1 (Concatenate  (None, 256, 256, 128)        0         ['conv2d_1[0][0]',            \n",
            " )                                                                   'conv2d_9[0][0]']            \n",
            "                                                                                                  \n",
            " conv2d_10 (Conv2D)          (None, 256, 256, 64)         73792     ['concatenate_1[0][0]']       \n",
            "                                                                                                  \n",
            " conv2d_11 (Conv2D)          (None, 256, 256, 64)         36928     ['conv2d_10[0][0]']           \n",
            "                                                                                                  \n",
            " conv2d_12 (Conv2D)          (None, 256, 256, 1)          65        ['conv2d_11[0][0]']           \n",
            "                                                                                                  \n",
            "==================================================================================================\n",
            "Total params: 1862849 (7.11 MB)\n",
            "Trainable params: 1862849 (7.11 MB)\n",
            "Non-trainable params: 0 (0.00 Byte)\n",
            "__________________________________________________________________________________________________\n"
          ]
        }
      ]
    },
    {
      "cell_type": "code",
      "source": [
        "!pip install unet\n"
      ],
      "metadata": {
        "colab": {
          "base_uri": "https://localhost:8080/"
        },
        "id": "3YqNVr06IeAd",
        "outputId": "0b9a988d-2d6e-44bd-d6d7-7f131b34de8e"
      },
      "execution_count": null,
      "outputs": [
        {
          "output_type": "stream",
          "name": "stdout",
          "text": [
            "Collecting unet\n",
            "  Downloading unet-0.7.7-py2.py3-none-any.whl (8.1 kB)\n",
            "Requirement already satisfied: torch in /usr/local/lib/python3.10/dist-packages (from unet) (2.0.1+cu118)\n",
            "Requirement already satisfied: filelock in /usr/local/lib/python3.10/dist-packages (from torch->unet) (3.12.4)\n",
            "Requirement already satisfied: typing-extensions in /usr/local/lib/python3.10/dist-packages (from torch->unet) (4.5.0)\n",
            "Requirement already satisfied: sympy in /usr/local/lib/python3.10/dist-packages (from torch->unet) (1.12)\n",
            "Requirement already satisfied: networkx in /usr/local/lib/python3.10/dist-packages (from torch->unet) (3.1)\n",
            "Requirement already satisfied: jinja2 in /usr/local/lib/python3.10/dist-packages (from torch->unet) (3.1.2)\n",
            "Requirement already satisfied: triton==2.0.0 in /usr/local/lib/python3.10/dist-packages (from torch->unet) (2.0.0)\n",
            "Requirement already satisfied: cmake in /usr/local/lib/python3.10/dist-packages (from triton==2.0.0->torch->unet) (3.27.6)\n",
            "Requirement already satisfied: lit in /usr/local/lib/python3.10/dist-packages (from triton==2.0.0->torch->unet) (17.0.2)\n",
            "Requirement already satisfied: MarkupSafe>=2.0 in /usr/local/lib/python3.10/dist-packages (from jinja2->torch->unet) (2.1.3)\n",
            "Requirement already satisfied: mpmath>=0.19 in /usr/local/lib/python3.10/dist-packages (from sympy->torch->unet) (1.3.0)\n",
            "Installing collected packages: unet\n",
            "Successfully installed unet-0.7.7\n"
          ]
        }
      ]
    },
    {
      "cell_type": "code",
      "source": [
        "import numpy as np\n",
        "import tensorflow as tf\n",
        "from tensorflow import keras\n",
        "from tensorflow.keras import layers\n",
        "from sklearn.model_selection import train_test_split\n",
        "\n",
        "# Define input shape and number of classes (adjust accordingly)\n",
        "input_shape = (64, 64, 64, 3)  # Update this to match your data\n",
        "num_classes = 2\n",
        "\n",
        "# Define your U-Net model\n",
        "def unet_model(input_shape):\n",
        "    inputs = keras.Input(shape=input_shape)\n",
        "    # Define the encoding path\n",
        "    conv1 = layers.Conv3D(32, (3, 3, 3), activation='relu', padding='same')(inputs)\n",
        "    pool1 = layers.MaxPooling3D((2, 2, 2))(conv1)\n",
        "    conv2 = layers.Conv3D(64, (3, 3, 3), activation='relu', padding='same')(pool1)\n",
        "    pool2 = layers.MaxPooling3D((2, 2, 2))(conv2)\n",
        "\n",
        "    # Define the middle layer\n",
        "    conv3 = layers.Conv3D(128, (3, 3, 3), activation='relu', padding='same')(pool2)\n",
        "\n",
        "    # Define the decoding path\n",
        "    up4 = layers.UpSampling3D((2, 2, 2))(conv3)\n",
        "    up4 = layers.Conv3D(64, (3, 3, 3), activation='relu', padding='same')(up4)\n",
        "    merge4 = layers.concatenate([conv2, up4], axis=-1)\n",
        "    conv4 = layers.Conv3D(64, (3, 3, 3), activation='relu', padding='same')(merge4)\n",
        "\n",
        "    up5 = layers.UpSampling3D((2, 2, 2))(conv4)\n",
        "    up5 = layers.Conv3D(32, (3, 3, 3), activation='relu', padding='same')(up5)\n",
        "    merge5 = layers.concatenate([conv1, up5], axis=-1)\n",
        "    conv5 = layers.Conv3D(32, (3, 3, 3), activation='relu', padding='same')(merge5)\n",
        "\n",
        "    # Output layer\n",
        "    outputs = layers.Conv3D(num_classes, (1, 1, 1), activation='softmax')(conv5)\n",
        "\n",
        "    model = keras.Model(inputs=inputs, outputs=outputs)\n",
        "    return model\n",
        "\n",
        "# Create the U-Net model\n",
        "#input_shape = (*image_shape[:-1], 3)\n",
        "#model = unet_model(input_shape)\n",
        "\n",
        "# Compile the model\n",
        "#model.compile(optimizer='adam',\n",
        "              #loss='sparse_categorical_crossentropy',  # Use appropriate loss for your task\n",
        "              #metrics=['accuracy'])\n",
        "\n",
        "# Train the model with your dataset\n",
        "#history = model.fit(X_train, y_train, epochs=20, batch_size=32, validation_split=0.2)\n"
      ],
      "metadata": {
        "id": "Txpf867eLxNE"
      },
      "execution_count": null,
      "outputs": []
    },
    {
      "cell_type": "code",
      "source": [
        "# Assuming you have your training labels loaded in y_train\n",
        "unique_labels = np.unique(y_train)\n",
        "num_classes = len(unique_labels)\n",
        "print(f\"Number of classes in your data: {num_classes}\")\n",
        "num_classes = len(unique_labels)  # Adjust num_classes to match your data"
      ],
      "metadata": {
        "colab": {
          "base_uri": "https://localhost:8080/"
        },
        "id": "UHLJ6lfllGNH",
        "outputId": "cac9c0d7-055c-4599-a90b-8422eda8dda1"
      },
      "execution_count": null,
      "outputs": [
        {
          "output_type": "stream",
          "name": "stdout",
          "text": [
            "Number of classes in your data: 65\n"
          ]
        }
      ]
    },
    {
      "cell_type": "code",
      "source": [
        "import tensorflow as tf\n",
        "from tensorflow.keras.preprocessing.image import ImageDataGenerator\n",
        "from tensorflow.keras.models import Sequential\n",
        "from tensorflow.keras.layers import Conv2D, MaxPooling2D, Flatten, Dense, Dropout\n",
        "from tensorflow.keras.optimizers import Adam\n",
        "import numpy as np\n",
        "\n",
        "# Generate some example data (replace this with your data loading code)\n",
        "# Example data shape: (num_samples, height, width, channels)\n",
        "num_samples = 1000\n",
        "height, width, channels = 64, 64, 3\n",
        "X_train = np.random.rand(num_samples, height, width, channels)\n",
        "y_train = np.random.randint(2, size=num_samples)\n",
        "\n",
        "# Define the CNN model\n",
        "model = Sequential()\n",
        "model.add(Conv2D(32, (3, 3), activation='relu', input_shape=(height, width, channels)))\n",
        "model.add(MaxPooling2D((2, 2)))\n",
        "model.add(Conv2D(64, (3, 3), activation='relu'))\n",
        "model.add(MaxPooling2D((2, 2)))\n",
        "model.add(Conv2D(128, (3, 3), activation='relu'))\n",
        "model.add(MaxPooling2D((2, 2)))\n",
        "model.add(Flatten())\n",
        "model.add(Dense(128, activation='relu'))\n",
        "model.add(Dropout(0.5))\n",
        "model.add(Dense(1, activation='sigmoid'))\n",
        "\n",
        "# Compile the model\n",
        "model.compile(optimizer=Adam(learning_rate=0.001), loss='binary_crossentropy', metrics=['accuracy'])\n",
        "\n",
        "# Data augmentation\n",
        "datagen = ImageDataGenerator(\n",
        "    rotation_range=40,\n",
        "    width_shift_range=0.2,\n",
        "    height_shift_range=0.2,\n",
        "    shear_range=0.2,\n",
        "    zoom_range=0.2,\n",
        "    horizontal_flip=True,\n",
        "    fill_mode='nearest'\n",
        ")\n",
        "\n",
        "# Fit the model using data augmentation\n",
        "batch_size = 32\n",
        "epochs = 10\n",
        "\n",
        "history = model.fit(\n",
        "    datagen.flow(X_train, y_train, batch_size=batch_size),\n",
        "    steps_per_epoch=len(X_train) // batch_size,\n",
        "    epochs=epochs\n",
        ")\n"
      ],
      "metadata": {
        "colab": {
          "base_uri": "https://localhost:8080/"
        },
        "id": "r4fhxq-5hRri",
        "outputId": "3c15eba3-2929-4527-e0d2-586965812af4"
      },
      "execution_count": null,
      "outputs": [
        {
          "output_type": "stream",
          "name": "stdout",
          "text": [
            "Epoch 1/10\n",
            "31/31 [==============================] - 4s 60ms/step - loss: 0.6984 - accuracy: 0.4990\n",
            "Epoch 2/10\n",
            "31/31 [==============================] - 1s 39ms/step - loss: 0.6944 - accuracy: 0.4979\n",
            "Epoch 3/10\n",
            "31/31 [==============================] - 1s 38ms/step - loss: 0.6933 - accuracy: 0.4855\n",
            "Epoch 4/10\n",
            "31/31 [==============================] - 1s 39ms/step - loss: 0.6933 - accuracy: 0.5093\n",
            "Epoch 5/10\n",
            "31/31 [==============================] - 1s 39ms/step - loss: 0.6934 - accuracy: 0.5062\n",
            "Epoch 6/10\n",
            "31/31 [==============================] - 1s 39ms/step - loss: 0.6930 - accuracy: 0.5196\n",
            "Epoch 7/10\n",
            "31/31 [==============================] - 1s 40ms/step - loss: 0.6926 - accuracy: 0.5186\n",
            "Epoch 8/10\n",
            "31/31 [==============================] - 1s 39ms/step - loss: 0.6930 - accuracy: 0.5186\n",
            "Epoch 9/10\n",
            "31/31 [==============================] - 2s 63ms/step - loss: 0.6927 - accuracy: 0.5155\n",
            "Epoch 10/10\n",
            "31/31 [==============================] - 2s 72ms/step - loss: 0.6924 - accuracy: 0.5186\n"
          ]
        }
      ]
    },
    {
      "cell_type": "code",
      "source": [
        "import numpy as np\n",
        "\n",
        "# Assuming you have trained your model and have test data\n",
        "# Replace these variables with your actual test data\n",
        "X_test = np.random.rand(num_samples, height, width, channels)\n",
        "y_test = np.random.randint(2, size=num_samples)\n",
        "\n",
        "# Evaluate the model on the test data\n",
        "test_loss, test_accuracy = model.evaluate(X_test, y_test)\n",
        "\n",
        "print(f\"Test Accuracy: {test_accuracy * 100:.2f}%\")\n"
      ],
      "metadata": {
        "colab": {
          "base_uri": "https://localhost:8080/"
        },
        "id": "GAfY655mrPHX",
        "outputId": "9bb450f2-e6dc-4674-ca3e-406607db3f6d"
      },
      "execution_count": null,
      "outputs": [
        {
          "output_type": "stream",
          "name": "stdout",
          "text": [
            "32/32 [==============================] - 0s 4ms/step - loss: 0.6924 - accuracy: 0.5200\n",
            "Test Accuracy: 52.00%\n"
          ]
        }
      ]
    }
  ]
}